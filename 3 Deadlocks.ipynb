{
 "cells": [
  {
   "cell_type": "code",
   "execution_count": 1,
   "metadata": {},
   "outputs": [],
   "source": [
    "\n",
    "import time\n",
    "import threading\n",
    "from threading import Thread\n",
    "import random\n",
    "import sys"
   ]
  },
  {
   "cell_type": "markdown",
   "metadata": {},
   "source": [
    "## Deadlocks"
   ]
  },
  {
   "cell_type": "markdown",
   "metadata": {},
   "source": [
    "Deadlocks are yet another problematic condition that might arise as the result of poorly synchronized code."
   ]
  },
  {
   "cell_type": "markdown",
   "metadata": {},
   "source": [
    "## A simple example"
   ]
  },
  {
   "cell_type": "markdown",
   "metadata": {},
   "source": [
    "Let's start by analyzing a simple example: movement between two \"bank accounts\":"
   ]
  },
  {
   "cell_type": "code",
   "execution_count": 2,
   "metadata": {},
   "outputs": [],
   "source": [
    "ACCOUNTS = {\n",
    "    'a1': 1000,\n",
    "    'a2': 1000\n",
    "}\n",
    "ITERATIONS = {\n",
    "    'a1': 0,\n",
    "    'a2': 0,\n",
    "}"
   ]
  },
  {
   "cell_type": "code",
   "execution_count": 3,
   "metadata": {},
   "outputs": [],
   "source": [
    "def move_funds(_from, _to, expected):\n",
    "    name = threading.current_thread().name\n",
    "\n",
    "    while True:\n",
    "        amount = random.randint(0, 100)\n",
    "        ACCOUNTS[_from] -= amount\n",
    "        ACCOUNTS[_to] += amount\n",
    "        total = sum(ACCOUNTS.values())\n",
    "        if total != expected:\n",
    "            print(f\"{name} found an inconsistent balance: ${total}\")\n",
    "            break\n",
    "        ITERATIONS[_from] += 1"
   ]
  },
  {
   "cell_type": "code",
   "execution_count": 4,
   "metadata": {},
   "outputs": [],
   "source": [
    "t1 = threading.Thread(target=move_funds, name='Thread-1', args=('a1', 'a2', 2000))\n",
    "t2 = threading.Thread(target=move_funds, name='Thread-2', args=('a2', 'a1', 2000))"
   ]
  },
  {
   "cell_type": "code",
   "execution_count": 5,
   "metadata": {},
   "outputs": [
    {
     "name": "stdout",
     "output_type": "stream",
     "text": [
      "Thread-2 found an inconsistent balance: $1930\n"
     ]
    }
   ],
   "source": [
    "t1.start()\n",
    "t2.start()"
   ]
  },
  {
   "cell_type": "markdown",
   "metadata": {},
   "source": [
    "## Fixing it with Locks"
   ]
  },
  {
   "cell_type": "markdown",
   "metadata": {},
   "source": [
    "We've already learned about Locks, so we can use those to try synchronizing the access to the accounts. We'll create 2 locks, on for each account:"
   ]
  },
  {
   "cell_type": "code",
   "execution_count": 6,
   "metadata": {},
   "outputs": [],
   "source": [
    "ACCOUNTS = {\n",
    "    'a1': 1000,\n",
    "    'a2': 1000\n",
    "}"
   ]
  },
  {
   "cell_type": "code",
   "execution_count": 7,
   "metadata": {},
   "outputs": [],
   "source": [
    "lock_1 = threading.Lock()\n",
    "lock_2 = threading.Lock()"
   ]
  },
  {
   "cell_type": "code",
   "execution_count": 8,
   "metadata": {},
   "outputs": [],
   "source": [
    "def move_funds(_from, _to, lock_from, lock_to, expected):\n",
    "    name = threading.current_thread().name\n",
    "    iterations = 0\n",
    "    while True:\n",
    "        amount = random.randint(0, 100)\n",
    "        with lock_from:\n",
    "            with lock_to:\n",
    "                ACCOUNTS[_from] -= amount\n",
    "                ACCOUNTS[_to] += amount\n",
    "                total = sum(ACCOUNTS.values())\n",
    "                if total != expected:\n",
    "                    print(f\"{name} found an inconsistent balance: ${total}\")\n",
    "                    break\n",
    "        iterations += 1\n",
    "        if iterations > 1_000_000:\n",
    "            print(f'{name} reached iteration limit. Stopping...')\n",
    "            return"
   ]
  },
  {
   "cell_type": "code",
   "execution_count": 9,
   "metadata": {},
   "outputs": [],
   "source": [
    "t1 = threading.Thread(target=move_funds, name='Thread-1', args=('a1', 'a2', lock_1, lock_2, 2000))\n",
    "t2 = threading.Thread(target=move_funds, name='Thread-2', args=('a2', 'a1', lock_1, lock_2, 2000))"
   ]
  },
  {
   "cell_type": "code",
   "execution_count": 10,
   "metadata": {},
   "outputs": [
    {
     "name": "stdout",
     "output_type": "stream",
     "text": [
      "Thread-1 found an inconsistent balance: $1970\n",
      "Thread-1 found an inconsistent balance: $1904\n"
     ]
    }
   ],
   "source": [
    "t1.start()\n",
    "t2.start()"
   ]
  },
  {
   "cell_type": "code",
   "execution_count": 11,
   "metadata": {},
   "outputs": [
    {
     "name": "stdout",
     "output_type": "stream",
     "text": [
      "Thread-2 reached iteration limit. Stopping...\n"
     ]
    }
   ],
   "source": [
    "[t.join() for t in (t1, t2)];"
   ]
  },
  {
   "cell_type": "code",
   "execution_count": 12,
   "metadata": {},
   "outputs": [
    {
     "data": {
      "text/plain": [
       "2000"
      ]
     },
     "execution_count": 12,
     "metadata": {},
     "output_type": "execute_result"
    }
   ],
   "source": [
    "sum(ACCOUNTS.values())"
   ]
  },
  {
   "cell_type": "code",
   "execution_count": 13,
   "metadata": {},
   "outputs": [
    {
     "data": {
      "text/plain": [
       "(False, False)"
      ]
     },
     "execution_count": 13,
     "metadata": {},
     "output_type": "execute_result"
    }
   ],
   "source": [
    "lock_1.locked(), lock_2.locked()"
   ]
  },
  {
   "cell_type": "markdown",
   "metadata": {},
   "source": [
    "Worked! Now the access to the accounts is protected by the locks. But there's a very dangerous potential situation hidden in our code. If we make just 1 tiny change, altering the order of the locks that are passed to our threads, we'll find ourselves deadlocked:"
   ]
  },
  {
   "cell_type": "code",
   "execution_count": 14,
   "metadata": {},
   "outputs": [],
   "source": [
    "ACCOUNTS = {\n",
    "    'a1': 1000,\n",
    "    'a2': 1000\n",
    "}"
   ]
  },
  {
   "cell_type": "code",
   "execution_count": 41,
   "metadata": {},
   "outputs": [],
   "source": [
    "# t1 = threading.Thread(target=move_funds, name='Thread-1', args=('a1', 'a2', lock_1, lock_2, 2000))\n",
    "# t2 = threading.Thread(target=move_funds, name='Thread-2', args=('a2', 'a1', lock_2, lock_1, 2000))\n",
    "# t1.start()\n",
    "# t2.start()\n",
    "\n",
    "# [t.join() for t in (t1, t2)];"
   ]
  },
  {
   "cell_type": "markdown",
   "metadata": {},
   "source": [
    "## What are Deadlocks and when do they happen?"
   ]
  },
  {
   "cell_type": "markdown",
   "metadata": {},
   "source": [
    "a deadlock is a state in which each member of a group is waiting for another member, including itself, to take action, such as sending a message or more commonly releasing a lock"
   ]
  },
  {
   "cell_type": "markdown",
   "metadata": {},
   "source": [
    "![title](deadlock.gif)"
   ]
  },
  {
   "cell_type": "markdown",
   "metadata": {},
   "source": [
    "In our code, the issue is the ordering in which the locks are acquired. This is a VERY difficult thing to spot."
   ]
  },
  {
   "cell_type": "markdown",
   "metadata": {},
   "source": [
    "![title](deadlocks.png)"
   ]
  },
  {
   "cell_type": "markdown",
   "metadata": {},
   "source": [
    "## How to prevent Deadlock"
   ]
  },
  {
   "cell_type": "markdown",
   "metadata": {},
   "source": [
    " It's very hard to prevent Deadlocks. One simple technique is to always use timeouts when trying to acquire locks. If you're trying to acquire N shared locks, if you can't acquire all N, you can release them all and start over. Let's see an example:"
   ]
  },
  {
   "cell_type": "code",
   "execution_count": 15,
   "metadata": {},
   "outputs": [],
   "source": [
    "ACCOUNTS = {\n",
    "    'a1': 1000,\n",
    "    'a2': 1000\n",
    "}\n",
    "\n",
    "LOCK_TIMEOUT = .001\n",
    "\n",
    "lock_1 = threading.Lock()\n",
    "lock_2 = threading.Lock()"
   ]
  },
  {
   "cell_type": "code",
   "execution_count": 16,
   "metadata": {},
   "outputs": [],
   "source": [
    "def move_funds(_from, _to, lock_from, lock_to, expected):\n",
    "    name = threading.current_thread().name\n",
    "    iterations = 0\n",
    "    while True:\n",
    "        amount = random.randint(0, 100)\n",
    "        locked = False\n",
    "        while not locked:\n",
    "            res1 = lock_from.acquire(timeout=LOCK_TIMEOUT)\n",
    "            res2 = lock_to.acquire(timeout=LOCK_TIMEOUT)\n",
    "            if all([res1, res2]):\n",
    "                # Success! We acquired both locks\n",
    "                locked = True\n",
    "            else:\n",
    "                # Release locks \"partially\" acquired\n",
    "                if res1:\n",
    "                    lock_from.release()\n",
    "                if res2:\n",
    "                    lock_to.release()\n",
    "        # locked is True, we're safe\n",
    "        ACCOUNTS[_from] -= amount\n",
    "        ACCOUNTS[_to] += amount\n",
    "        total = sum(ACCOUNTS.values())\n",
    "        lock_from.release()\n",
    "        lock_to.release()\n",
    "        if total != expected:\n",
    "            print(f\"{name} found an inconsistent balance: ${total}\")\n",
    "            break\n",
    "        iterations += 1\n",
    "        if iterations > 100_000:\n",
    "            print(f'{name} reached iteration limit. Stopping...')\n",
    "            return"
   ]
  },
  {
   "cell_type": "code",
   "execution_count": 17,
   "metadata": {},
   "outputs": [],
   "source": [
    "t1 = threading.Thread(target=move_funds, name='Thread-1', args=('a1', 'a2', lock_1, lock_2, 2000))\n",
    "t2 = threading.Thread(target=move_funds, name='Thread-2', args=('a2', 'a1', lock_2, lock_1, 2000))"
   ]
  },
  {
   "cell_type": "code",
   "execution_count": 18,
   "metadata": {},
   "outputs": [],
   "source": [
    "t1.start()\n",
    "t2.start()"
   ]
  },
  {
   "cell_type": "code",
   "execution_count": 19,
   "metadata": {},
   "outputs": [
    {
     "name": "stdout",
     "output_type": "stream",
     "text": [
      "Thread-1 reached iteration limit. Stopping...\n",
      "Thread-2 reached iteration limit. Stopping...\n"
     ]
    }
   ],
   "source": [
    "[t.join() for t in (t1, t2)];"
   ]
  },
  {
   "cell_type": "code",
   "execution_count": 20,
   "metadata": {},
   "outputs": [
    {
     "data": {
      "text/plain": [
       "2000"
      ]
     },
     "execution_count": 20,
     "metadata": {},
     "output_type": "execute_result"
    }
   ],
   "source": [
    "sum(ACCOUNTS.values())"
   ]
  },
  {
   "cell_type": "code",
   "execution_count": 21,
   "metadata": {},
   "outputs": [
    {
     "data": {
      "text/plain": [
       "(False, False)"
      ]
     },
     "execution_count": 21,
     "metadata": {},
     "output_type": "execute_result"
    }
   ],
   "source": [
    "lock_1.locked(), lock_2.locked()"
   ]
  },
  {
   "cell_type": "code",
   "execution_count": null,
   "metadata": {},
   "outputs": [],
   "source": [
    "As you can see, we've just prevented the deadlock. The key code piece that prevents the deadlock is the following:"
   ]
  },
  {
   "cell_type": "code",
   "execution_count": null,
   "metadata": {},
   "outputs": [],
   "source": [
    "# locked = False\n",
    "# while not locked:\n",
    "#     res1 = lock_from.acquire(timeout=LOCK_TIMEOUT)\n",
    "#     res2 = lock_to.acquire(timeout=LOCK_TIMEOUT)\n",
    "#     if all([res1, res2]):\n",
    "#         # Success! We acquired both locks\n",
    "#         locked = True\n",
    "#     else:\n",
    "#         # Release locks \"partially\" acquired\n",
    "#         if res1:\n",
    "#             lock_from.release()\n",
    "#         if res2:\n",
    "#             lock_to.release()"
   ]
  },
  {
   "cell_type": "code",
   "execution_count": null,
   "metadata": {},
   "outputs": [],
   "source": []
  }
 ],
 "metadata": {
  "kernelspec": {
   "display_name": "Python 3",
   "language": "python",
   "name": "python3"
  },
  "language_info": {
   "codemirror_mode": {
    "name": "ipython",
    "version": 3
   },
   "file_extension": ".py",
   "mimetype": "text/x-python",
   "name": "python",
   "nbconvert_exporter": "python",
   "pygments_lexer": "ipython3",
   "version": "3.7.4"
  }
 },
 "nbformat": 4,
 "nbformat_minor": 2
}
